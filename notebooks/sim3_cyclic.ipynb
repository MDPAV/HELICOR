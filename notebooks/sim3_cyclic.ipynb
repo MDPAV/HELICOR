{
 "cells": [
  {
   "cell_type": "markdown",
   "metadata": {},
   "source": [
    "# No damping oscillation of helicopter motion from hover\n",
    "\n",
    "The following scripts runs a simulation of helicopter motion without damping. The first cell gets the data and all other cells create relevant plots"
   ]
  },
  {
   "cell_type": "code",
   "execution_count": null,
   "metadata": {},
   "outputs": [],
   "source": [
    "import numpy as np\n",
    "import plotly.graph_objects as go\n",
    "import matplotlib.pyplot as plt\n",
    "\n",
    "# INITIAL DATA HELICOPTER\n",
    "g = 9.81\n",
    "cla = 5.7  # NACA 0012\n",
    "volh = .075  # blade solidity\n",
    "lok = 6\n",
    "cds = 1.5\n",
    "mass = 2200\n",
    "rho = 1.225\n",
    "vtip = 200\n",
    "diam = 2 * 7.32\n",
    "iy = 10615\n",
    "mast = 1\n",
    "omega = vtip / (diam / 2)\n",
    "area = np.pi / 4 * diam ** 2\n",
    "tau = .1  # time constant in dynamics inflow!!!\n",
    "collect = [6 * np.pi / 180]\n",
    "longit = [0 * np.pi / 180]\n",
    "\n",
    "# INITIAL VALUES SIMULATION\n",
    "t0 = 0\n",
    "u0 = 0\n",
    "w0 = 0\n",
    "q0 = 0\n",
    "pitch0 = 0 * np.pi / 180\n",
    "x0 = 0\n",
    "labi0 = np.sqrt(mass * g / (area * 2 * rho)) / vtip  # nondimensional inflow\n",
    "\n",
    "t = [t0]\n",
    "u = [u0]\n",
    "w = [w0]\n",
    "q = [q0]\n",
    "pitch = [pitch0]\n",
    "x = [x0]\n",
    "labi = [labi0]\n",
    "z = [0]\n",
    "\n",
    "# START INTEGRATION FOR 40 SECONDS\n",
    "aantal = 400\n",
    "teind = 40\n",
    "stap = (teind - t0) / aantal\n",
    "\n",
    "for i in range(aantal):\n",
    "    if t[i] >= 0.5 and t[i] <= 1:\n",
    "        longit.append(1 * np.pi / 180)  # longit cyclic input\n",
    "    else:\n",
    "        longit.append(0 * np.pi / 180)\n",
    "    \n",
    "    # no LAW FOR COLLECTIVE\n",
    "    c = u[i] * np.sin(pitch[i]) - w[i] * np.cos(pitch[i])\n",
    "    h = -z[i]\n",
    "    collect.append(collect[0])    \n",
    "\n",
    "    # Defining the differential equations\n",
    "    # defining the nondimensional notations\n",
    "    qdiml = q[i] / omega\n",
    "    vdiml = np.sqrt(u[i]**2 + w[i]**2) / vtip\n",
    "    if u[i] == 0:\n",
    "        phi = np.pi/2 if w[i] > 0 else -np.pi/2\n",
    "    else:\n",
    "        phi = np.arctan(w[i] / u[i])\n",
    "    if u[i] < 0:\n",
    "        phi += np.pi\n",
    "    alfc = longit[i] - phi\n",
    "\n",
    "    mu = vdiml * np.cos(alfc)\n",
    "    labc = vdiml * np.sin(alfc)\n",
    "\n",
    "    # a1 Flapping calculus\n",
    "    teller = -16/lok*qdiml + 8/3*mu*collect[i] - 2*mu*(labc + labi[i])\n",
    "    a1 = teller / (1 - .5*mu**2)\n",
    "\n",
    "    # the thrust coefficient\n",
    "    ctelem = cla*volh/4*(2/3*collect[i]*(1+1.5*mu**2)-(labc+labi[i]))\n",
    "    # Thrust coefficient from Glauert\n",
    "    alfd = alfc - a1\n",
    "    ctglau = 2*labi[i]*np.sqrt((vdiml*np.cos(alfd))**2 + (vdiml*np.sin(alfd) + labi[i])**2)\n",
    "\n",
    "    # Equations of motion\n",
    "    labidot = ctelem\n",
    "    thrust = labidot * rho * vtip**2 * area\n",
    "    helling = longit[i] - a1\n",
    "    vv = vdiml * vtip  # it is 1/sqrt(u^2+w^2)\n",
    "\n",
    "    udot = -g*np.sin(pitch[i]) - cds/mass * .5 * rho * u[i] * vv + thrust/mass * np.sin(helling) - q[i] * w[i]\n",
    "    wdot = g*np.cos(pitch[i]) - cds/mass * .5 * rho * w[i] * vv - thrust/mass * np.cos(helling) + q[i] * u[i]\n",
    "    qdot = -thrust * mast / iy * np.sin(helling)\n",
    "    pitchdot = q[i]\n",
    "    xdot = u[i]\n",
    "    zdot = -c\n",
    "\n",
    "    labidot = (ctelem - ctglau) / tau\n",
    "\n",
    "    # Euler integration\n",
    "    u.append(u[i] + stap * udot)\n",
    "    w.append(w[i] + stap * wdot)\n",
    "    q.append(q[i] + stap * qdot)\n",
    "    pitch.append(pitch[i] + stap * pitchdot)\n",
    "    x.append(x[i] + stap * xdot)\n",
    "    labi.append(labi[i] + stap * labidot)\n",
    "    z.append(z[i] + stap * zdot)\n",
    "    t.append(t[i] + stap)\n"
   ]
  },
  {
   "cell_type": "markdown",
   "metadata": {},
   "source": [
    "# Let us now plot the data\n"
   ]
  },
  {
   "cell_type": "code",
   "execution_count": null,
   "metadata": {},
   "outputs": [],
   "source": [
    "\n",
    "import plotly.graph_objects as go\n",
    "\n",
    "fig = go.Figure()\n",
    "fig.add_trace(go.Scatter(x=t, y=np.array(longit) * 180 / np.pi, mode='lines', name='longit (deg)'))\n",
    "fig.update_layout(title='Longitudinal Input over Time',\n",
    "                  xaxis_title='t (s)',\n",
    "                  yaxis_title='longit (deg)',\n",
    "                  )\n",
    "fig.show()"
   ]
  },
  {
   "cell_type": "code",
   "execution_count": null,
   "metadata": {},
   "outputs": [],
   "source": [
    "fig = go.Figure()\n",
    "fig.add_trace(go.Scatter(x=t, y=u, mode='lines', name='u(m/s)'))\n",
    "fig.add_trace(go.Scatter(x=t, y=np.array(pitch) * 180 / np.pi, mode='lines', name='pitch(deg)'))\n",
    "fig.update_layout(title='Velocity and Pitch over Time',\n",
    "                  xaxis_title='t (s)',\n",
    "                  )\n",
    "fig.show()"
   ]
  },
  {
   "cell_type": "code",
   "execution_count": null,
   "metadata": {},
   "outputs": [],
   "source": [
    "fig = go.Figure()\n",
    "fig.add_trace(go.Scatter(x=t, y=x, mode='lines', name='x(m)'))\n",
    "fig.update_layout(title='Displacement in X-Direction over Time',\n",
    "                  xaxis_title='t (s)',\n",
    "                  yaxis_title='x(m)',\n",
    "                  )\n",
    "fig.show()"
   ]
  },
  {
   "cell_type": "code",
   "execution_count": null,
   "metadata": {},
   "outputs": [],
   "source": [
    "fig = go.Figure()\n",
    "fig.add_trace(go.Scatter(x=t, y=w, mode='lines', name='w(m/s)'))\n",
    "fig.update_layout(title='Vertical Velocity over Time',\n",
    "                  xaxis_title='t (s)',\n",
    "                  yaxis_title='w(m/s)',\n",
    "                  )\n",
    "fig.show()"
   ]
  },
  {
   "cell_type": "code",
   "execution_count": null,
   "metadata": {},
   "outputs": [],
   "source": [
    "fig = go.Figure()\n",
    "fig.add_trace(go.Scatter(x=t, y=q, mode='lines', name='q(rad/s)'))\n",
    "fig.update_layout(title='Rate of Pitch Change over Time',\n",
    "                  xaxis_title='t (s)',\n",
    "                  yaxis_title='q(rad/s)',\n",
    "                  )\n",
    "fig.show()"
   ]
  },
  {
   "cell_type": "code",
   "execution_count": null,
   "metadata": {},
   "outputs": [],
   "source": [
    "fig = go.Figure()\n",
    "fig.add_trace(go.Scatter(x=t, y=labi, mode='lines', name='labi'))\n",
    "fig.update_layout(title='Non-Dimensional Inflow over Time',\n",
    "                  xaxis_title='t (s)',\n",
    "                  yaxis_title='labi',\n",
    "                  )\n",
    "fig.show()"
   ]
  },
  {
   "cell_type": "code",
   "execution_count": null,
   "metadata": {},
   "outputs": [],
   "source": [
    "fig = go.Figure()\n",
    "fig.add_trace(go.Scatter(x=t, y=-np.array(z), mode='lines', name='h(m)'))\n",
    "fig.update_layout(title='Altitude over Time',\n",
    "                  xaxis_title='t (s)',\n",
    "                  yaxis_title='h(m)',\n",
    "                  )\n",
    "fig.show()"
   ]
  }
 ],
 "metadata": {
  "kernelspec": {
   "display_name": "sci",
   "language": "python",
   "name": "python3"
  },
  "language_info": {
   "codemirror_mode": {
    "name": "ipython",
    "version": 3
   },
   "file_extension": ".py",
   "mimetype": "text/x-python",
   "name": "python",
   "nbconvert_exporter": "python",
   "pygments_lexer": "ipython3",
   "version": "3.11.7"
  }
 },
 "nbformat": 4,
 "nbformat_minor": 2
}
