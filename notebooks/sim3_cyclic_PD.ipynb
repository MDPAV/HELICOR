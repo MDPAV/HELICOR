{
 "cells": [
  {
   "cell_type": "markdown",
   "metadata": {},
   "source": [
    "# PD controller of helicopter motion from hover\n",
    "\n",
    "The following scripts runs a simulation of helicopter motion with a PD controller. The first cell gets the data and all other cells create relevant plots"
   ]
  },
  {
   "cell_type": "code",
   "execution_count": null,
   "metadata": {},
   "outputs": [],
   "source": [
    "import numpy as np\n",
    "import matplotlib.pyplot as plt\n",
    "\n",
    "# INITIAL DATA HELICOPTER\n",
    "g = 9.81\n",
    "cla = 5.7  # NACA 0012\n",
    "volh = 0.075  # blade solidity\n",
    "lok = 6\n",
    "cds = 1.5\n",
    "mass = 2200\n",
    "rho = 1.225\n",
    "vtip = 200\n",
    "diam = 2 * 7.32\n",
    "iy = 10615\n",
    "mast = 1\n",
    "omega = vtip / (diam / 2)\n",
    "area = np.pi / 4 * diam**2\n",
    "tau = 0.1  # time constant in dynamics inflow!!!\n",
    "collect = np.array([6 * np.pi / 180])\n",
    "longit = np.array([0 * np.pi / 180])\n",
    "\n",
    "# initial values\n",
    "t0 = 0\n",
    "u0 = 0\n",
    "w0 = 0\n",
    "q0 = 0\n",
    "pitch0 = 0 * np.pi / 180\n",
    "x0 = 0\n",
    "labi0 = np.sqrt(mass * g / (area * 2 * rho)) / vtip\n",
    "\n",
    "t = [t0]\n",
    "u = [u0]\n",
    "w = [w0]\n",
    "q = [q0]\n",
    "pitch = [pitch0]\n",
    "x = [x0]\n",
    "labi = [labi0]\n",
    "z = [0]\n",
    "\n",
    "# INTEGRATION\n",
    "aantal = 800\n",
    "teind = 80\n",
    "stap = (teind - t0) / aantal\n",
    "\n",
    "for i in range(aantal):\n",
    "    ti = t[-1]\n",
    "    if 0.5 <= ti < 1:\n",
    "        longit = np.append(longit, 1 * np.pi / 180)\n",
    "    else:\n",
    "        longit = np.append(longit, 0 * np.pi / 180)\n",
    "\n",
    "    if ti >= 15:\n",
    "        longitgrd = 0.2 * pitch[-1] * 180 / np.pi + 0.2 * q[-1] * 180 / np.pi  # PD in deg\n",
    "        longit[-1] = longitgrd * np.pi / 180  # in rad\n",
    "\n",
    "    # NO LAW FOR COLLECTIVE\n",
    "    c = u[-1] * np.sin(pitch[-1]) - w[-1] * np.cos(pitch[-1])\n",
    "    h = -z[-1]\n",
    "    collect = np.append(collect, collect[0])\n",
    "\n",
    "    # Defining the differential equations\n",
    "    qdiml = q[-1] / omega\n",
    "    vdiml = np.sqrt(u[-1]**2 + w[-1]**2) / vtip\n",
    "    if u[-1] == 0:\n",
    "        phi = np.pi / 2 if w[-1] > 0 else -np.pi / 2\n",
    "    else:\n",
    "        phi = np.arctan(w[-1] / u[-1])\n",
    "    if u[-1] < 0:\n",
    "        phi += np.pi\n",
    "    alfc = longit[-1] - phi\n",
    "\n",
    "    mu = vdiml * np.cos(alfc)\n",
    "    labc = vdiml * np.sin(alfc)\n",
    "\n",
    "    # a1 Flapping calculi\n",
    "    teller = -16 / lok * qdiml + 8 / 3 * mu * collect[-1] - 2 * mu * (labc + labi[-1])\n",
    "    a1 = teller / (1 - .5 * mu**2)\n",
    "\n",
    "    # the thrust coefficient\n",
    "    ctelem = cla * volh / 4 * (2 / 3 * collect[-1] * (1 + 1.5 * mu**2) - (labc + labi[-1]))\n",
    "    # Thrust coefficient from Glauert\n",
    "    alfd = alfc - a1\n",
    "    ctglau = 2 * labi[-1] * np.sqrt((vdiml * np.cos(alfd))**2 + (vdiml * np.sin(alfd) + labi[-1])**2)\n",
    "\n",
    "    # Equations of motion\n",
    "    labidot = ctelem\n",
    "    thrust = labidot * rho * vtip**2 * area\n",
    "    helling = longit[-1] - a1\n",
    "    vv = vdiml * vtip  # it is 1/sqrt(u^2+w^2)\n",
    "\n",
    "    udot = -g * np.sin(pitch[-1]) - cds / mass * .5 * rho * u[-1] * vv + thrust / mass * np.sin(helling) - q[-1] * w[-1]\n",
    "    wdot = g * np.cos(pitch[-1]) - cds / mass * .5 * rho * w[-1] * vv - thrust / mass * np.cos(helling) + q[-1] * u[-1]\n",
    "    qdot = -thrust * mast / iy * np.sin(helling)\n",
    "    pitchdot = q[-1]\n",
    "\n",
    "    xdot = u[-1] * np.cos(pitch[-1]) + w[-1] * np.sin(pitch[-1])\n",
    "    zdot = -c\n",
    "    labidot = (ctelem - ctglau) / tau\n",
    "\n",
    "    u.append(u[-1] + stap * udot)\n",
    "    w.append(w[-1] + stap * wdot)\n",
    "    q.append(q[-1] + stap * qdot)\n",
    "    pitch.append(pitch[-1] + stap * pitchdot)\n",
    "    x.append(x[-1] + stap * xdot)\n",
    "    labi.append(labi[-1] + stap * labidot)\n",
    "    z.append(z[-1] + stap * zdot)\n",
    "    t.append(ti + stap)"
   ]
  },
  {
   "cell_type": "markdown",
   "metadata": {},
   "source": [
    "# Let us now plot the results"
   ]
  },
  {
   "cell_type": "code",
   "execution_count": null,
   "metadata": {},
   "outputs": [],
   "source": [
    "import plotly.graph_objects as go\n",
    "\n",
    "fig = go.Figure()\n",
    "fig.add_trace(go.Scatter(x=t, y=u, mode='lines', name='u(m/s)'))\n",
    "fig.update_layout(title='Velocity (u) over Time',\n",
    "                  xaxis_title='t (s)',\n",
    "                  yaxis_title='u(m/s)')\n",
    "fig.show()\n"
   ]
  },
  {
   "cell_type": "code",
   "execution_count": null,
   "metadata": {},
   "outputs": [],
   "source": [
    "fig = go.Figure()\n",
    "fig.add_trace(go.Scatter(x=t, y=np.array(pitch) * 180 / np.pi, mode='lines', name='pitch(deg)'))\n",
    "fig.update_layout(title='Pitch over Time',\n",
    "                  xaxis_title='t (s)',\n",
    "                  yaxis_title='pitch(deg)')\n",
    "fig.show()\n"
   ]
  },
  {
   "cell_type": "code",
   "execution_count": null,
   "metadata": {},
   "outputs": [],
   "source": [
    "fig = go.Figure()\n",
    "fig.add_trace(go.Scatter(x=t, y=x, mode='lines', name='x(m)'))\n",
    "fig.update_layout(title='Displacement in X-Direction over Time',\n",
    "                  xaxis_title='t (s)',\n",
    "                  yaxis_title='x(m)')\n",
    "fig.show()\n"
   ]
  },
  {
   "cell_type": "code",
   "execution_count": null,
   "metadata": {},
   "outputs": [],
   "source": [
    "fig = go.Figure()\n",
    "fig.add_trace(go.Scatter(x=t, y=w, mode='lines', name='w(m/s)'))\n",
    "fig.update_layout(title='Vertical Velocity (w) over Time',\n",
    "                  xaxis_title='t (s)',\n",
    "                  yaxis_title='w(m/s)')\n",
    "fig.show()\n"
   ]
  },
  {
   "cell_type": "code",
   "execution_count": null,
   "metadata": {},
   "outputs": [],
   "source": [
    "fig = go.Figure()\n",
    "fig.add_trace(go.Scatter(x=t, y=q, mode='lines', name='q(rad/s)'))\n",
    "fig.update_layout(title='Rate of Pitch Change (q) over Time',\n",
    "                  xaxis_title='t (s)',\n",
    "                  yaxis_title='q(rad/s)')\n",
    "fig.show()\n"
   ]
  },
  {
   "cell_type": "code",
   "execution_count": null,
   "metadata": {},
   "outputs": [],
   "source": [
    "fig = go.Figure()\n",
    "fig.add_trace(go.Scatter(x=t, y=labi, mode='lines', name='labi'))\n",
    "fig.update_layout(title='Non-Dimensional Inflow (labi) over Time',\n",
    "                  xaxis_title='t (s)',\n",
    "                  yaxis_title='labi')\n",
    "fig.show()\n"
   ]
  },
  {
   "cell_type": "code",
   "execution_count": null,
   "metadata": {},
   "outputs": [],
   "source": [
    "fig = go.Figure()\n",
    "fig.add_trace(go.Scatter(x=t, y=-np.array(z), mode='lines', name='h(m)'))\n",
    "fig.update_layout(title='Altitude (h) over Time',\n",
    "                  xaxis_title='t (s)',\n",
    "                  yaxis_title='h(m)')\n",
    "fig.show()\n"
   ]
  },
  {
   "cell_type": "code",
   "execution_count": null,
   "metadata": {},
   "outputs": [],
   "source": [
    "fig = go.Figure()\n",
    "fig.add_trace(go.Scatter(x=t, y=longit * 180 / np.pi, mode='lines', name='longit(deg)'))\n",
    "fig.update_layout(title='Longitudinal Input (longit) over Time',\n",
    "                  xaxis_title='t (s)',\n",
    "                  yaxis_title='longit(deg)')\n",
    "fig.show()\n"
   ]
  }
 ],
 "metadata": {
  "kernelspec": {
   "display_name": "tuduam_notebook",
   "language": "python",
   "name": "python3"
  },
  "language_info": {
   "codemirror_mode": {
    "name": "ipython",
    "version": 3
   },
   "file_extension": ".py",
   "mimetype": "text/x-python",
   "name": "python",
   "nbconvert_exporter": "python",
   "pygments_lexer": "ipython3",
   "version": "3.11.7"
  }
 },
 "nbformat": 4,
 "nbformat_minor": 2
}
